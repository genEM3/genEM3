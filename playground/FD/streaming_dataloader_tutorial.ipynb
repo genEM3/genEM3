{
 "cells": [
  {
   "cell_type": "markdown",
   "metadata": {},
   "source": [
    "tutorial from https://medium.com/speechmatics/how-to-build-a-streaming-dataloader-with-pytorch-a66dd891d9dd"
   ]
  },
  {
   "cell_type": "code",
   "execution_count": 4,
   "metadata": {},
   "outputs": [],
   "source": [
    "from torch.utils.data import Dataset, IterableDataset, DataLoader\n",
    "from itertools import cycle, islice, chain"
   ]
  },
  {
   "cell_type": "markdown",
   "metadata": {},
   "source": [
    "## Stream from one datasource"
   ]
  },
  {
   "cell_type": "code",
   "execution_count": 19,
   "metadata": {},
   "outputs": [
    {
     "name": "stdout",
     "output_type": "stream",
     "text": [
      "['d1:0', 'd1:1', 'd1:2', 'd1:3']\n",
      "['d1:4', 'd1:5', 'd1:6', 'd1:7']\n",
      "['d1:8', 'd1:9', 'd1:0', 'd1:1']\n",
      "['d1:2', 'd1:3', 'd1:4', 'd1:5']\n",
      "['d1:6', 'd1:7', 'd1:8', 'd1:9']\n",
      "['d1:0', 'd1:1', 'd1:2', 'd1:3']\n",
      "['d1:4', 'd1:5', 'd1:6', 'd1:7']\n",
      "['d1:8', 'd1:9', 'd1:0', 'd1:1']\n"
     ]
    }
   ],
   "source": [
    "class MyIterableDataset(IterableDataset):\n",
    "    \n",
    "    def __init__(self, data):\n",
    "        self.data = data\n",
    "    \n",
    "    def process_data(self, data):\n",
    "        for x in data:\n",
    "            yield x\n",
    "        \n",
    "    def get_stream(self, data):\n",
    "        return cycle(self.process_data(data))\n",
    "    \n",
    "    def __iter__(self):\n",
    "        return self.get_stream(self.data)\n",
    "\n",
    "data1 = ['d1:{}'.format(x) for x in list(range(10))]\n",
    "\n",
    "iterable_dataset = MyIterableDataset(data1)\n",
    "loader = DataLoader(iterable_dataset, batch_size=4)\n",
    "\n",
    "for batch in islice(loader, 8):\n",
    "    print(batch)"
   ]
  },
  {
   "cell_type": "markdown",
   "metadata": {},
   "source": [
    "## Stream from multiple datasources"
   ]
  },
  {
   "cell_type": "code",
   "execution_count": 26,
   "metadata": {},
   "outputs": [
    {
     "name": "stdout",
     "output_type": "stream",
     "text": [
      "['d1:0', 'd1:1', 'd1:2', 'd1:3']\n",
      "['d1:4', 'd1:5', 'd1:6', 'd1:7']\n",
      "['d1:8', 'd1:9', 'd2:0', 'd2:1']\n",
      "['d2:2', 'd2:3', 'd2:4', 'd2:5']\n",
      "['d3:0', 'd3:1', 'd3:2', 'd3:3']\n",
      "['d3:4', 'd3:5', 'd3:6', 'd3:7']\n",
      "['d1:0', 'd1:1', 'd1:2', 'd1:3']\n",
      "['d1:4', 'd1:5', 'd1:6', 'd1:7']\n"
     ]
    }
   ],
   "source": [
    "class MyIterableDataset(IterableDataset):\n",
    "    \n",
    "    def __init__(self, data_list):\n",
    "        self.data_list = data_list\n",
    "    \n",
    "    def process_data(self, data):\n",
    "        for x in data:\n",
    "            yield x\n",
    "        \n",
    "    def get_stream(self, data_list):\n",
    "        return chain.from_iterable(map(self.process_data, cycle(data_list)))\n",
    "    \n",
    "    def __iter__(self):\n",
    "        return self.get_stream(self.data_list)\n",
    "\n",
    "data1 = ['d1:{}'.format(x) for x in list(range(10))]\n",
    "data2 = ['d2:{}'.format(x) for x in list(range(6))]\n",
    "data3 = ['d3:{}'.format(x) for x in list(range(8))]\n",
    "data_list = [data1, data2, data3]\n",
    "\n",
    "iterable_dataset = MyIterableDataset(data_list)\n",
    "loader = DataLoader(iterable_dataset, batch_size=4)\n",
    "\n",
    "for batch in islice(loader, 8):\n",
    "    print(batch)"
   ]
  },
  {
   "cell_type": "code",
   "execution_count": null,
   "metadata": {},
   "outputs": [],
   "source": []
  }
 ],
 "metadata": {
  "kernelspec": {
   "display_name": "Python 3",
   "language": "python",
   "name": "python3"
  },
  "language_info": {
   "codemirror_mode": {
    "name": "ipython",
    "version": 3
   },
   "file_extension": ".py",
   "mimetype": "text/x-python",
   "name": "python",
   "nbconvert_exporter": "python",
   "pygments_lexer": "ipython3",
   "version": "3.8.3"
  }
 },
 "nbformat": 4,
 "nbformat_minor": 4
}
