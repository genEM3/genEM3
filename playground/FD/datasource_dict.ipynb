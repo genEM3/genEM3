{
 "cells": [
  {
   "cell_type": "code",
   "execution_count": 12,
   "metadata": {},
   "outputs": [],
   "source": [
    "from collections import defaultdict, namedtuple\n",
    "import json"
   ]
  },
  {
   "cell_type": "code",
   "execution_count": 35,
   "metadata": {},
   "outputs": [],
   "source": [
    "datasource = namedtuple('datasource',\n",
    "    [\n",
    "    'type',\n",
    "    'input_path',\n",
    "    'input_dtype',\n",
    "    'input_bbox',\n",
    "    'label_path',\n",
    "    'label_dtype',\n",
    "    'label_bbox'\n",
    "    ])"
   ]
  },
  {
   "cell_type": "code",
   "execution_count": 44,
   "metadata": {},
   "outputs": [],
   "source": [
    "datasource_1 = datasource(\n",
    "    type='train',\n",
    "    input_path='../../.data/scMS109_1to7199_v01_subset/8-8-1/',\n",
    "    input_dtype='uint8',\n",
    "    input_bbox=[20000, 16000, 0, 500, 500, 50],\n",
    "    label_path='../../.data/scMS109_1to7199_v01_subset/8-8-1/',\n",
    "    label_dtype='uint8',\n",
    "    label_bbox=[20000, 16000, 0, 500, 500, 50]\n",
    "    )"
   ]
  },
  {
   "cell_type": "code",
   "execution_count": 43,
   "metadata": {},
   "outputs": [
    {
     "data": {
      "text/plain": [
       "datasource(type=1, input_path=2, input_dtype=3, input_bbox=4, label_path='../../.data/scMS109_1to7199_v01_subset/8-8-1/', label_dtype='uint8', label_bbox=[20000, 16000, 0, 500, 500, 50])"
      ]
     },
     "execution_count": 43,
     "metadata": {},
     "output_type": "execute_result"
    }
   ],
   "source": [
    "datasource(1,2,3,4,label_path='../../.data/scMS109_1to7199_v01_subset/8-8-1/',label_dtype='uint8',label_bbox=[20000, 16000, 0, 500, 500, 50])"
   ]
  },
  {
   "cell_type": "code",
   "execution_count": null,
   "metadata": {},
   "outputs": [],
   "source": [
    "json_path = '/home/drawitschf/Code/gen-EM/gen-EM/datasources_01_local.json'\n",
    "with open(json_path) as json_file:\n",
    "    data = json.load(json_file)"
   ]
  }
 ],
 "metadata": {
  "kernelspec": {
   "display_name": "Python 3",
   "language": "python",
   "name": "python3"
  },
  "language_info": {
   "codemirror_mode": {
    "name": "ipython",
    "version": 3
   },
   "file_extension": ".py",
   "mimetype": "text/x-python",
   "name": "python",
   "nbconvert_exporter": "python",
   "pygments_lexer": "ipython3",
   "version": "3.7.6"
  }
 },
 "nbformat": 4,
 "nbformat_minor": 4
}
